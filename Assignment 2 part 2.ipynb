{
  "nbformat": 4,
  "nbformat_minor": 0,
  "metadata": {
    "colab": {
      "name": "Mini_Projects_2/ part 2.ipynb",
      "provenance": [],
      "include_colab_link": true
    },
    "kernelspec": {
      "name": "python3",
      "display_name": "Python 3"
    }
  },
  "cells": [
    {
      "cell_type": "markdown",
      "metadata": {
        "id": "view-in-github",
        "colab_type": "text"
      },
      "source": [
        "<a href=\"https://colab.research.google.com/github/KROCKcorp/Machine-Learning-Training/blob/main/Assignment%202%20part%202.ipynb\" target=\"_parent\"><img src=\"https://colab.research.google.com/assets/colab-badge.svg\" alt=\"Open In Colab\"/></a>"
      ]
    },
    {
      "cell_type": "markdown",
      "metadata": {
        "id": "c2sSEq3uSurn"
      },
      "source": [
        "# Files and Exceptions"
      ]
    },
    {
      "cell_type": "code",
      "metadata": {
        "id": "VppOUgyU_Auv"
      },
      "source": [
        "from google.colab import drive\n",
        "drive.mount('/content/drive')"
      ],
      "execution_count": null,
      "outputs": []
    },
    {
      "cell_type": "markdown",
      "metadata": {
        "id": "qw2XyRs-TWIF"
      },
      "source": [
        "**8. Sum of Numbers** <br>\n",
        "Assume that a file containing a series of integers is named numbers.txt and exists on the Drive. Write a program that reads all of the numbers stored in the file and calculates their total.\n",
        "\n",
        "Find file here: <br>\n",
        "https://drive.google.com/file/d/1GaOURA7jp0NLvfaOfl4cCClKK_pv3q0r/view?usp=sharing"
      ]
    },
    {
      "cell_type": "code",
      "metadata": {
        "id": "92EStR9KSu8N",
        "outputId": "25d4f646-4d95-4ee0-ce7c-7511ad81429a",
        "colab": {
          "base_uri": "https://localhost:8080/"
        }
      },
      "source": [
        "nums_file = open('numbers.txt','r')\n",
        "line = nums_file.readline()\n",
        "total = 0\n",
        "while line != '':\n",
        "  total += int(line)\n",
        "  line = nums_file.readline()\n",
        "nums_file.close()\n",
        "print(\"The total is\", total)"
      ],
      "execution_count": 28,
      "outputs": [
        {
          "output_type": "stream",
          "text": [
            "The total is 5931486514\n"
          ],
          "name": "stdout"
        }
      ]
    },
    {
      "cell_type": "code",
      "metadata": {
        "id": "B7GImG_lSu-u"
      },
      "source": [
        ""
      ],
      "execution_count": null,
      "outputs": []
    },
    {
      "cell_type": "markdown",
      "metadata": {
        "id": "gW0mWcdDVgK4"
      },
      "source": [
        "**9. Average of Numbers** <br>\n",
        "Assume that a file containing a series of integers is named numbers.txt and exists on the Drive. Write a program that calculates the average of all the numbers stored in\n",
        "the file"
      ]
    },
    {
      "cell_type": "code",
      "metadata": {
        "id": "3-DZx-vnSvCe",
        "outputId": "08fd381c-8e5d-4a82-e8d0-897e8e3d477a",
        "colab": {
          "base_uri": "https://localhost:8080/"
        }
      },
      "source": [
        "nums_file = open('numbers.txt','r')\n",
        "line = nums_file.readline()\n",
        "total = 0\n",
        "line_nums = 0\n",
        "while line != '':\n",
        "  total += int(line)\n",
        "  line_nums += 1\n",
        "  line = nums_file.readline()\n",
        "nums_file.close()\n",
        "avg = total/line_nums\n",
        "print(\"The average is\", avg)\n"
      ],
      "execution_count": 27,
      "outputs": [
        {
          "output_type": "stream",
          "text": [
            "The average is 102267008.86206897\n"
          ],
          "name": "stdout"
        }
      ]
    },
    {
      "cell_type": "markdown",
      "metadata": {
        "id": "vjchCYETVwPx"
      },
      "source": [
        "**10. Random Number File Writer**<br>\n",
        "Write a program that writes a series of random numbers to a file. Each random number should be in the range of 1 \n",
        "through 500. The application should let the user specify how\n",
        "many random numbers the file will hold.\n"
      ]
    },
    {
      "cell_type": "code",
      "metadata": {
        "id": "DCyba_BZVxLF",
        "outputId": "29760a39-065b-48c3-a75a-807599c99101",
        "colab": {
          "base_uri": "https://localhost:8080/"
        }
      },
      "source": [
        "import random\n",
        "file = open('random.txt','w')\n",
        "a = int(input(\"How many random numbers do you want: \"))\n",
        "for i in range(0,a+1,1):\n",
        "  rnd = random.randint(1,500)\n",
        "  file.write(str(rnd))\n",
        "  file.write('\\n')\n",
        "file.close()"
      ],
      "execution_count": 45,
      "outputs": [
        {
          "output_type": "stream",
          "text": [
            "How many random numbers do you want: 5\n"
          ],
          "name": "stdout"
        }
      ]
    },
    {
      "cell_type": "code",
      "metadata": {
        "id": "uZ7CQJM0VxN5"
      },
      "source": [
        ""
      ],
      "execution_count": null,
      "outputs": []
    },
    {
      "cell_type": "markdown",
      "metadata": {
        "id": "p75ZKqbXWMdY"
      },
      "source": [
        "**11.  Exception Handing** <br>\n",
        "Modify the program that you wrote for Exercise 9 so it handles the following exceptions: <br>\n",
        "* It should handle any IOError exceptions that are raised when the file is opened and data\n",
        "is read from it. <br>\n",
        "* It should handle any ValueError exceptions that are raised when the items that are read from the file are converted to a number."
      ]
    },
    {
      "cell_type": "code",
      "metadata": {
        "id": "22SOHQbrVxRE",
        "outputId": "f37af6b3-b1e0-4a87-a6dc-49490cad5cd3",
        "colab": {
          "base_uri": "https://localhost:8080/"
        }
      },
      "source": [
        "try:\n",
        "  nums_file = open('numbers.txt','r')\n",
        "  line = nums_file.readline()\n",
        "  total = 0\n",
        "  line_nums = 0\n",
        "  while line != '':\n",
        "    total += int(line)\n",
        "    line_nums += 1\n",
        "    line = nums_file.readline()\n",
        "  nums_file.close()\n",
        "  avg = total/line_nums\n",
        "  print(\"The average is\", avg)\n",
        "except IOError:\n",
        "  print(\"This file was not found.\")\n",
        "except ValueError:\n",
        "  print(\"Non-numeric data were found in the file.\")"
      ],
      "execution_count": 48,
      "outputs": [
        {
          "output_type": "stream",
          "text": [
            "The average is 102267008.86206897\n"
          ],
          "name": "stdout"
        }
      ]
    },
    {
      "cell_type": "code",
      "metadata": {
        "id": "3p0MENR_WrBV"
      },
      "source": [
        ""
      ],
      "execution_count": null,
      "outputs": []
    }
  ]
}